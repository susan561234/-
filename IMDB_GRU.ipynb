{
  "cells": [
    {
      "cell_type": "markdown",
      "metadata": {
        "id": "view-in-github",
        "colab_type": "text"
      },
      "source": [
        "<a href=\"https://colab.research.google.com/github/susan561234/deep-learning-hw/blob/main/IMDB_GRU.ipynb\" target=\"_parent\"><img src=\"https://colab.research.google.com/assets/colab-badge.svg\" alt=\"Open In Colab\"/></a>"
      ]
    },
    {
      "cell_type": "code",
      "execution_count": 2,
      "metadata": {
        "id": "55-3CJO3mJUX"
      },
      "outputs": [],
      "source": [
        "import tensorflow as tf\n",
        "from tensorflow.keras.datasets import imdb\n",
        "from tensorflow.keras.preprocessing import sequence\n",
        "from tensorflow.keras.layers import GRU,Dense\n",
        "from tensorflow.keras import layers\n",
        "import matplotlib.pyplot as plt\n",
        "from sklearn.model_selection import train_test_split"
      ]
    },
    {
      "cell_type": "code",
      "execution_count": 3,
      "metadata": {
        "colab": {
          "base_uri": "https://localhost:8080/"
        },
        "id": "b5f_t9AImf_F",
        "outputId": "10e8175f-2e4a-4cb5-aaf7-65c2797e2246"
      },
      "outputs": [
        {
          "output_type": "stream",
          "name": "stdout",
          "text": [
            "Downloading data from https://storage.googleapis.com/tensorflow/tf-keras-datasets/imdb.npz\n",
            "17464789/17464789 [==============================] - 0s 0us/step\n"
          ]
        }
      ],
      "source": [
        "max_words = 500\n",
        "batch_sizes = 128\n",
        "\n",
        "# 載入 IMDB 數據集\n",
        "(train_data, train_label), (test_data, test_label) = imdb.load_data(num_words=10000)\n",
        "\n",
        "# 將每個評論截取或填充至 500 個詞\n",
        "train_data_new = sequence.pad_sequences(train_data, maxlen=max_words)\n",
        "test_data_new = sequence.pad_sequences(test_data, maxlen=max_words)\n",
        "\n",
        "# 將數據集拆分為訓練集和驗證集\n",
        "x_train, x_val, y_train, y_val = train_test_split(train_data_new, train_label, test_size=0.2, random_state=42)\n",
        "\n",
        "# 創建訓練集、驗證集和測試集的 tf.data.Dataset 對象\n",
        "db_train = tf.data.Dataset.from_tensor_slices((x_train, y_train))\n",
        "db_train = db_train.shuffle(1000).batch(batch_sizes, drop_remainder=True)\n",
        "db_val = tf.data.Dataset.from_tensor_slices((x_val, y_val))\n",
        "db_val = db_val.batch(batch_sizes, drop_remainder=True)\n",
        "db_test = tf.data.Dataset.from_tensor_slices((test_data_new, test_label))\n",
        "db_test = db_test.batch(batch_sizes, drop_remainder=True)\n",
        "\n"
      ]
    },
    {
      "cell_type": "code",
      "execution_count": 4,
      "metadata": {
        "colab": {
          "base_uri": "https://localhost:8080/"
        },
        "id": "fQjizX7uqqe8",
        "outputId": "a12e4bf3-d5f2-4b79-ebff-bef11110c657"
      },
      "outputs": [
        {
          "output_type": "stream",
          "name": "stdout",
          "text": [
            "<_BatchDataset element_spec=(TensorSpec(shape=(128, 500), dtype=tf.int32, name=None), TensorSpec(shape=(128,), dtype=tf.int64, name=None))>\n",
            "<_BatchDataset element_spec=(TensorSpec(shape=(128, 500), dtype=tf.int32, name=None), TensorSpec(shape=(128,), dtype=tf.int64, name=None))>\n"
          ]
        }
      ],
      "source": [
        "print(db_train)\n",
        "print(db_test)"
      ]
    },
    {
      "cell_type": "code",
      "execution_count": 5,
      "metadata": {
        "colab": {
          "base_uri": "https://localhost:8080/"
        },
        "id": "5BXg1h11og8H",
        "outputId": "83636d8a-5256-4913-b0d1-8112705c2c99"
      },
      "outputs": [
        {
          "output_type": "stream",
          "name": "stdout",
          "text": [
            "Model: \"sequential\"\n",
            "_________________________________________________________________\n",
            " Layer (type)                Output Shape              Param #   \n",
            "=================================================================\n",
            " embedding (Embedding)       (None, 500, 128)          1280000   \n",
            "                                                                 \n",
            " gru (GRU)                   (None, 500, 128)          99072     \n",
            "                                                                 \n",
            " gru_1 (GRU)                 (None, 64)                37248     \n",
            "                                                                 \n",
            " dense (Dense)               (None, 1)                 65        \n",
            "                                                                 \n",
            "=================================================================\n",
            "Total params: 1,416,385\n",
            "Trainable params: 1,416,385\n",
            "Non-trainable params: 0\n",
            "_________________________________________________________________\n",
            "None\n"
          ]
        }
      ],
      "source": [
        "vocab_size = 10000\n",
        "model = tf.keras.models.Sequential()\n",
        "model.add(layers.Embedding(\n",
        "    vocab_size,\n",
        "    output_dim=128,\n",
        "    input_length=max_words\n",
        "))\n",
        "model.add(GRU(128,dropout=0.2,return_sequences=True,recurrent_dropout=0.2))#recurrent_dropout return_sequences=True\n",
        "model.add(GRU(64))\n",
        "model.add(Dense(1,activation=\"sigmoid\"))\n",
        "print(model.summary())"
      ]
    },
    {
      "cell_type": "code",
      "execution_count": 9,
      "metadata": {
        "colab": {
          "base_uri": "https://localhost:8080/"
        },
        "id": "llUbk-rCphUu",
        "outputId": "af731fc9-f619-4eb7-ffe2-96606c35cb80"
      },
      "outputs": [
        {
          "output_type": "stream",
          "name": "stdout",
          "text": [
            "Epoch 1/10\n",
            "156/156 [==============================] - 705s 4s/step - loss: 0.0395 - accuracy: 0.9868 - val_loss: 0.6161 - val_accuracy: 0.8736\n",
            "Epoch 2/10\n",
            "156/156 [==============================] - 686s 4s/step - loss: 0.0128 - accuracy: 0.9961 - val_loss: 0.7137 - val_accuracy: 0.8738\n",
            "Epoch 3/10\n",
            "156/156 [==============================] - 682s 4s/step - loss: 0.0114 - accuracy: 0.9968 - val_loss: 0.8531 - val_accuracy: 0.8678\n",
            "Epoch 4/10\n",
            "156/156 [==============================] - 676s 4s/step - loss: 0.0393 - accuracy: 0.9858 - val_loss: 0.5687 - val_accuracy: 0.8668\n",
            "Epoch 5/10\n",
            "156/156 [==============================] - 682s 4s/step - loss: 0.0151 - accuracy: 0.9951 - val_loss: 0.6951 - val_accuracy: 0.8692\n",
            "Epoch 6/10\n",
            "156/156 [==============================] - 673s 4s/step - loss: 0.0061 - accuracy: 0.9980 - val_loss: 0.7965 - val_accuracy: 0.8686\n",
            "Epoch 7/10\n",
            "156/156 [==============================] - 694s 4s/step - loss: 0.0055 - accuracy: 0.9982 - val_loss: 0.8302 - val_accuracy: 0.8720\n",
            "Epoch 8/10\n",
            "156/156 [==============================] - 686s 4s/step - loss: 0.0122 - accuracy: 0.9962 - val_loss: 0.7282 - val_accuracy: 0.8680\n",
            "Epoch 9/10\n",
            "156/156 [==============================] - 691s 4s/step - loss: 0.0069 - accuracy: 0.9976 - val_loss: 0.8064 - val_accuracy: 0.8650\n",
            "Epoch 10/10\n",
            "156/156 [==============================] - 693s 4s/step - loss: 0.0060 - accuracy: 0.9982 - val_loss: 0.8078 - val_accuracy: 0.8684\n",
            "195/195 [==============================] - 178s 910ms/step - loss: 0.8681 - accuracy: 0.8584\n",
            "Test Loss: 0.8681, Test Accuracy: 85.84%\n"
          ]
        }
      ],
      "source": [
        "# 訓練模型\n",
        "model.compile(loss=\"binary_crossentropy\",optimizer=\"adam\",metrics=[\"accuracy\"])\n",
        "model.fit(db_train, epochs=10, validation_data=db_val)\n",
        "\n",
        "# 評估模型性能\n",
        "loss, accuracy = model.evaluate(db_test)\n",
        "print(\"Test Loss: {:.4f}, Test Accuracy: {:.2f}%\".format(loss, accuracy * 100))\n",
        "\n",
        "# model.compile(loss=\"binary_crossentropy\",optimizer=\"adam\",metrics=[\"accuracy\"])\n",
        "# history = model.fit(db_train,batch_size=batch_sizes,epochs=10,verbose=2)"
      ]
    },
    {
      "cell_type": "code",
      "execution_count": 7,
      "metadata": {
        "colab": {
          "base_uri": "https://localhost:8080/",
          "height": 472
        },
        "id": "xRq-2RGC5PNK",
        "outputId": "81e8463e-d752-429f-d2a6-297d9bb4ad3d"
      },
      "outputs": [
        {
          "output_type": "display_data",
          "data": {
            "text/plain": [
              "<Figure size 640x480 with 1 Axes>"
            ],
            "image/png": "[encoded data removed]"
          },
          "metadata": {}
        }
      ],
      "source": [
        "loss = history.history[\"loss\"]\n",
        "epochs = range(len(loss))\n",
        "plt.plot(epochs,loss,\"r-\",label=\"Training loss\")\n",
        "plt.title(\"Training loss\")\n",
        "plt.xlabel(\"Epochs\")\n",
        "plt.ylabel(\"Loss\")\n",
        "plt.legend()\n",
        "plt.show()"
      ]
    },
    {
      "cell_type": "code",
      "execution_count": 8,
      "metadata": {
        "colab": {
          "base_uri": "https://localhost:8080/"
        },
        "id": "Ta77-PBg8sUI",
        "outputId": "f9b536ed-23f5-4e21-c9f1-388d878afc76"
      },
      "outputs": [
        {
          "output_type": "stream",
          "name": "stdout",
          "text": [
            "195/195 [==============================] - 177s 903ms/step - loss: 0.7494 - accuracy: 0.8482\n",
            "Test Loss: 0.7494, Test Accuracy: 84.82%\n"
          ]
        }
      ],
      "source": [
        "test_loss, test_acc = model.evaluate(db_test,batch_size=batch_sizes)\n",
        "print(\"Test Loss: {:.4f}, Test Accuracy: {:.2f}%\".format(test_loss, test_acc * 100))"
      ]
    }
  ],
  "metadata": {
    "colab": {
      "provenance": [],
      "authorship_tag": "ABX9TyNTtEPLV+mA1pz7dV1d6xz/",
      "include_colab_link": true
    },
    "kernelspec": {
      "display_name": "Python 3",
      "name": "python3"
    },
    "language_info": {
      "name": "python"
    }
  },
  "nbformat": 4,
  "nbformat_minor": 0
}